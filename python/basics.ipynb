{
 "cells": [
  {
   "cell_type": "code",
   "id": "initial_id",
   "metadata": {
    "collapsed": true,
    "ExecuteTime": {
     "end_time": "2024-10-04T14:34:30.751436Z",
     "start_time": "2024-10-04T14:34:30.745414Z"
    }
   },
   "source": "print(\"Hello\")",
   "outputs": [
    {
     "name": "stdout",
     "output_type": "stream",
     "text": [
      "Hello\n"
     ]
    }
   ],
   "execution_count": 1
  },
  {
   "metadata": {},
   "cell_type": "markdown",
   "source": [
    "1.1. Variables and Data Types\n",
    "Variables are used to store data. Python allows you to create variables without explicitly defining their type.\n",
    "Data Types: Python has several built-in types like int (integer), float (floating-point number), str (string), bool (boolean), etc."
   ],
   "id": "8974255bc79bae8"
  },
  {
   "metadata": {
    "ExecuteTime": {
     "end_time": "2024-10-04T14:35:04.598220Z",
     "start_time": "2024-10-04T14:35:04.594607Z"
    }
   },
   "cell_type": "code",
   "source": [
    "age = 25  # int\n",
    "name = \"Alice\"  # str\n",
    "height = 5.9  # float\n",
    "is_student = True  # bool\n"
   ],
   "id": "e985659531a7c355",
   "outputs": [],
   "execution_count": 2
  },
  {
   "metadata": {},
   "cell_type": "code",
   "outputs": [],
   "execution_count": null,
   "source": "",
   "id": "2c33e5a7639e4113"
  }
 ],
 "metadata": {
  "kernelspec": {
   "display_name": "Python 3",
   "language": "python",
   "name": "python3"
  },
  "language_info": {
   "codemirror_mode": {
    "name": "ipython",
    "version": 2
   },
   "file_extension": ".py",
   "mimetype": "text/x-python",
   "name": "python",
   "nbconvert_exporter": "python",
   "pygments_lexer": "ipython2",
   "version": "2.7.6"
  }
 },
 "nbformat": 4,
 "nbformat_minor": 5
}
